{
 "cells": [
  {
   "cell_type": "code",
   "execution_count": 2,
   "id": "7c498cd1",
   "metadata": {},
   "outputs": [],
   "source": [
    "from langchain_community.document_loaders import UnstructuredPDFLoader\n",
    "from langchain_community.document_loaders import OnlinePDFLoader"
   ]
  },
  {
   "cell_type": "code",
   "execution_count": 3,
   "id": "ba484ed1",
   "metadata": {},
   "outputs": [
    {
     "name": "stderr",
     "output_type": "stream",
     "text": [
      "/Users/sulemanmughal/Desktop/ChatbotApplab/chatbot_venv/lib/python3.12/site-packages/tqdm/auto.py:21: TqdmWarning: IProgress not found. Please update jupyter and ipywidgets. See https://ipywidgets.readthedocs.io/en/stable/user_install.html\n",
      "  from .autonotebook import tqdm as notebook_tqdm\n"
     ]
    }
   ],
   "source": [
    "local_path = \"Chatbot_Development_Assignment.pdf\"\n",
    "\n",
    "if local_path:\n",
    "    loader = UnstructuredPDFLoader(file_path = local_path)\n",
    "    data = loader.load()\n",
    "else:\n",
    "    print(\"Upload PDF\")"
   ]
  },
  {
   "cell_type": "code",
   "execution_count": 4,
   "id": "8d96e6a9",
   "metadata": {},
   "outputs": [
    {
     "data": {
      "text/plain": [
       "'Assignment: Chatbot Development with Python for AI/ML Engineer Position at AppLab\\n\\nObjective Develop a Python-based application that uses AI/ML techniques to create a chatbot capable of answering user questions based on information extracted from PDF documents. The application should enable users to upload documents and interact with the chatbot through a simple, accessible interface.\\n\\nRequirements\\n\\n1. Document Upload API • API Endpoint: Create an API endpoint allowing users to upload PDF documents.\\n\\nText Extraction: Extract and process text from uploaded documents for use as the chatbot’s knowledge base.\\n\\n2. Chatbot API • Conversational Endpoint: Implement an API endpoint where users can submit questions, and the chatbot responds with answers based on the document content.\\n\\nNLP and AI Models: Use NLP techniques and relevant AI models to provide accurate, contextually relevant responses.\\n\\n3. User Interface • Interface Design: Develop a basic, user-friendly interface that allows users to: - Upload PDF documents. - Interact with the chatbot directly through a chat window.\\n\\nUsability: Ensure the interface is simple, clear, and facilitates easy interaction with the chatbot.\\n\\n4. Deployment with Docker • Containerization: Write a Dockerfile to containerize the application for easy deployment.\\n\\nDependencies and Configuration: Ensure all dependencies and configurations are included in the Docker container.\\n\\n5. Code Management and GitHub • Version Control: Push the completed project codebase to a GitHub repository.\\n\\nCode Quality: Write clear, well-structured, and readable code with appropriate comments and documentation.\\n\\nDocumentation: Include a `README.md` file containing: - Setup instructions. - API documentation. - An overview of the chatbot’s features and functionalities.\\n\\n6. Presentation • Duration: Prepare a 10-15 minute presentation.\\n\\nContent: - Application design and architecture overview. - NLP and AI model selection approach. - Deployment and usage instructions.\\n\\nLive Demo: If possible, provide a live demonstration of the chatbot application in action.\\n\\nEvaluation Criteria • Technical Execution: Completeness and accuracy in document processing, NLP techniques, and chatbot functionality.\\n\\nCode Quality: Organization, readability, and documentation quality of the codebase.\\n\\nUsability: Simplicity and ease of use of the user interface.\\n\\nDeployment: Effectiveness of Docker setup for replicable deployments.\\n\\nPresentation: Clarity of explanation and depth of technical understanding demonstrated.\\n\\nDeliverables • GitHub Repository Link: A link to the repository with the complete code and documentation.\\n\\nDockerfile: Include instructions to run the application in a Docker container.\\n\\nPresentation: A brief presentation showcasing the project.\\n\\nDeadline: 22/05/2025\\n\\nFor any technical inquiry, kindly contact: Khurram.r@applab.qa'"
      ]
     },
     "execution_count": 4,
     "metadata": {},
     "output_type": "execute_result"
    }
   ],
   "source": [
    "data[0].page_content"
   ]
  },
  {
   "cell_type": "code",
   "execution_count": null,
   "id": "d9436ff5",
   "metadata": {},
   "outputs": [],
   "source": []
  }
 ],
 "metadata": {
  "kernelspec": {
   "display_name": "chatbot_venv",
   "language": "python",
   "name": "python3"
  },
  "language_info": {
   "codemirror_mode": {
    "name": "ipython",
    "version": 3
   },
   "file_extension": ".py",
   "mimetype": "text/x-python",
   "name": "python",
   "nbconvert_exporter": "python",
   "pygments_lexer": "ipython3",
   "version": "3.12.6"
  }
 },
 "nbformat": 4,
 "nbformat_minor": 5
}
